{
 "cells": [
  {
   "cell_type": "markdown",
   "metadata": {
    "collapsed": true
   },
   "source": [
    "# Gradient descent with fixed step size in contraction"
   ]
  },
  {
   "cell_type": "markdown",
   "metadata": {},
   "source": [
    "This notebook provides the code for drawing worst-case performance of gradient descent in contraction, and comparing it to its theoretical guarantee. This code returns the figures from the paper [...]."
   ]
  },
  {
   "cell_type": "markdown",
   "metadata": {},
   "source": [
    "More precisely, the following convex minimization problem is considered\n",
    "\\begin{equation}\n",
    "f_\\star \\triangleq \\min_x f(x),\n",
    "\\end{equation}\n",
    "where $f$ is $L$-smooth and $\\mu$-strongly convex."
   ]
  },
  {
   "cell_type": "markdown",
   "metadata": {},
   "source": [
    "The package PEPit allows to compute a worst-case guarantee for **gradient descent** with fixed step size $\\gamma$. That is, it computes the smallest possible $\\tau(n, L, \\mu, \\gamma)$ such that the following guarantee holds\n",
    "\\begin{equation}\n",
    "\\| x_n - y_n \\|^2 \\leqslant \\tau(n, L, \\mu, \\gamma) \\| x_0 - y_0 \\|^2,\n",
    "\\end{equation}\n",
    "where $x_n$and $y_n$ are the outputs of the gradient descent with fixed step size $\\gamma$, starting respectively from $x_0$ and $y_0$."
   ]
  },
  {
   "cell_type": "markdown",
   "metadata": {},
   "source": [
    "Gradient descent with fixed step size $\\gamma$may be described as follows, for $t \\in \\{0,1, \\ldots, n-1\\}$\n",
    "\\begin{equation}\n",
    "x_{t+1} = x_t - \\gamma \\nabla f(x_t).\n",
    "\\end{equation}"
   ]
  },
  {
   "cell_type": "markdown",
   "metadata": {},
   "source": [
    "The **tight** theoretical guarantee is \n",
    "\\begin{equation}\n",
    "\\| x_n - y_n \\|^2 \\leqslant  \\max\\{(1-L\\gamma)^2,(1-\\mu \\gamma)^2\\}^n\\| x_0 - y_0 \\|^2,\n",
    "\\end{equation}\n",
    "which is tight on simple quadratic functions."
   ]
  },
  {
   "cell_type": "markdown",
   "metadata": {},
   "source": [
    "## Imports"
   ]
  },
  {
   "cell_type": "markdown",
   "metadata": {},
   "source": [
    "First, we include the right python imports, including commmon packages and the function returning worst-case performance of gradient descent in contraction."
   ]
  },
  {
   "cell_type": "code",
   "execution_count": 6,
   "metadata": {},
   "outputs": [],
   "source": [
    "import numpy as np\n",
    "import matplotlib.pyplot as plt\n",
    "import PEPit\n",
    "\n",
    "# import gradient descent in contraction from the toolbox\n",
    "import PEPit.examples.gradient_step_contraction as inGDC\n",
    "\n",
    "# Set the verbose parameter to False to return worst-case without details\n",
    "verbose = False"
   ]
  },
  {
   "cell_type": "markdown",
   "metadata": {},
   "source": [
    "## 1.  Worst-case as a function of the iteration count"
   ]
  },
  {
   "cell_type": "code",
   "execution_count": 19,
   "metadata": {
    "pycharm": {
     "name": "#%%\n"
    }
   },
   "outputs": [],
   "source": [
    "# Set the parameters\n",
    "\n",
    "L = 1          # smoothness parameter\n",
    "mu = 0.1       # strong-convexity parameter\n",
    "gamma = 1 / L  # step size\n",
    "\n",
    "# Set a list of iteration counter to test\n",
    "ns = np.array([1, 2, 4, 6, 8, 10, 15])#, 20, 30, 40, 50])\n",
    "\n",
    "\n",
    "# Compute worst-case and theoretical guarantee for each iteration count\n",
    "pepit_taus = np.zeros(len(ns))\n",
    "theoretical_taus = np.zeros(len(ns))\n",
    "for i in range(len(ns)):\n",
    "    pepit_taus[i], theoretical_taus[i] = inGDC.wc_gradient_descent_contraction(mu=mu, \n",
    "                                                                               L=L, \n",
    "                                                                               gamma=gamma, \n",
    "                                                                               n=ns[i], \n",
    "                                                                               verbose=verbose)"
   ]
  },
  {
   "cell_type": "code",
   "execution_count": 20,
   "metadata": {},
   "outputs": [
    {
     "data": {
      "image/png": "[encoded data removed]",
      "text/plain": [
       "<Figure size 432x288 with 1 Axes>"
      ]
     },
     "metadata": {
      "needs_background": "light"
     },
     "output_type": "display_data"
    }
   ],
   "source": [
    "# Plot theoretical and PEPit worst-case performance as a function of the iteration count\n",
    "\n",
    "plt.plot(ns, pepit_taus, label='PEPit worst case', marker='x')\n",
    "plt.plot(ns, theoretical_taus, label='Theoretical tight bound', marker='x')\n",
    "\n",
    "plt.semilogy()\n",
    "plt.legend()\n",
    "plt.xlabel('Interation count n (log scale)')\n",
    "plt.ylabel('Worst case guarantee')\n",
    "\n",
    "plt.show()"
   ]
  },
  {
   "cell_type": "markdown",
   "metadata": {},
   "source": [
    "## 2. Worst-case performance as a function of the step size"
   ]
  },
  {
   "cell_type": "code",
   "execution_count": 14,
   "metadata": {
    "pycharm": {
     "name": "#%%\n"
    }
   },
   "outputs": [],
   "source": [
    "# Set the parameters\n",
    "n = 1      # iteration counter\n",
    "L = 1      # smoothness parameter\n",
    "mu = 0.1   # strong-convexity parameter\n",
    "\n",
    "# Set a list of step sizes to test\n",
    "gammas = np.linspace(0, 2 / L, 41)\n",
    "\n",
    "# Compute worst-case and theoretical guarantee for step size\n",
    "pepit_taus = np.zeros(len(gammas))\n",
    "theoretical_taus = np.zeros(len(gammas))\n",
    "for i in range(len(gammas)):\n",
    "    pepit_taus[i], theoretical_taus[i] = inGDC.wc_gradient_descent_contraction(mu=mu, \n",
    "                                                                               L=L, \n",
    "                                                                               gamma=gammas[i], \n",
    "                                                                               n=n, \n",
    "                                                                               verbose=verbose)"
   ]
  },
  {
   "cell_type": "code",
   "execution_count": 18,
   "metadata": {},
   "outputs": [
    {
     "data": {
      "image/png": "[encoded data removed]",
      "text/plain": [
       "<Figure size 432x288 with 1 Axes>"
      ]
     },
     "metadata": {
      "needs_background": "light"
     },
     "output_type": "display_data"
    }
   ],
   "source": [
    "# Plot theoretical and PEPit worst-case performance as a function of the step size\n",
    "\n",
    "plt.plot(gammas, pepit_taus, label='PEPit worst case')\n",
    "plt.plot(gammas, theoretical_taus, label='Theoretical tight bound')\n",
    "\n",
    "plt.legend()\n",
    "plt.xlabel('Step size')\n",
    "plt.ylabel('Worst case guarantee')\n",
    "\n",
    "plt.show()"
   ]
  },
  {
   "cell_type": "code",
   "execution_count": null,
   "metadata": {},
   "outputs": [],
   "source": []
  }
 ],
 "metadata": {
  "kernelspec": {
   "display_name": "Python 3 (ipykernel)",
   "language": "python",
   "name": "python3"
  },
  "language_info": {
   "codemirror_mode": {
    "name": "ipython",
    "version": 3
   },
   "file_extension": ".py",
   "mimetype": "text/x-python",
   "name": "python",
   "nbconvert_exporter": "python",
   "pygments_lexer": "ipython3",
   "version": "3.9.7"
  }
 },
 "nbformat": 4,
 "nbformat_minor": 1
}