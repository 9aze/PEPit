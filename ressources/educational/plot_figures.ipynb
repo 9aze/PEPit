{
 "cells": [
  {
   "cell_type": "markdown",
   "id": "7f06e888",
   "metadata": {},
   "source": [
    "# PEPit : numerical examples of worst-case analyses"
   ]
  },
  {
   "cell_type": "markdown",
   "id": "48102f42",
   "metadata": {},
   "source": [
    "This notebook provides the source code for figures from the paper [REF]. That is, it returns worst-case guarantee obtained with PEPit compared to its theoretical guarantee for **gradient descent** with fixed step size in contraction, the **accelerated gradient** method for strongly convex objectives, an **accelerated Douglas Rachford** splitting and **Point SAGA**.\n",
    "\n",
    "PEPit can be installed following these $\\href{https://pypi.org/project/PEPit/}{instructions}$, and its $\\href{https://pepit.readthedocs.io/en/latest/}{documentation}$."
   ]
  },
  {
   "cell_type": "markdown",
   "id": "7d7ae6fb",
   "metadata": {},
   "source": [
    "### List of examples\n",
    "\n",
    "* [Example 1 : Gradient descent with fixed step size in contraction](#example1)\n",
    "    * [1.1 Worst-case guarantee as a function of the iteration count](#section_1_1)\n",
    "    * [1.2 Worst-case guarantee as a function of the step size](#section_1_2)\n",
    "* [Example 2 : Accelerated gradient method for strongly convex objective](#example2)\n",
    "* [Example 3 : Accelerated Douglas Rachford Splitting](#example3)\n",
    "* [Example 4 : Point SAGA](#example4)"
   ]
  },
  {
   "cell_type": "markdown",
   "id": "65d73450",
   "metadata": {},
   "source": [
    "Let us first do the right imports, including python common packages (numpy, matplotlib) and PEPit."
   ]
  },
  {
   "cell_type": "code",
   "execution_count": 4,
   "id": "4a97a7ff",
   "metadata": {},
   "outputs": [],
   "source": [
    "import numpy as np\n",
    "import matplotlib.pyplot as plt\n",
    "import PEPit\n",
    "\n",
    "# import gradient descent in contraction from the toolbox\n",
    "import PEPit.examples.gradient_step_contraction as inGDC\n",
    "# import from the toolbox the accelerated gradient method in the strongly convex setting\n",
    "import PEPit.examples.unconstrained_convex_minimization.accelerated_gradient_strongly_convex as instrFGM\n",
    "# import accelerated Douglas Rachford Splitting from the toolbox\n",
    "import PEPit.examples.composite_convex_minimization.accelerated_douglas_rachford_splitting as inADRS\n",
    "# import Point SAGA from the toolbox\n",
    "import PEPit.examples.stochastic_convex_minimization.point_saga as inPSAGA"
   ]
  },
  {
   "cell_type": "code",
   "execution_count": 17,
   "id": "bfa2f56e",
   "metadata": {},
   "outputs": [],
   "source": [
    "# Set the verbose parameter to False to return worst-case without details\n",
    "verbose = False"
   ]
  },
  {
   "cell_type": "markdown",
   "id": "b8050851",
   "metadata": {},
   "source": [
    "## Example 1 : Gradient descent with fixed step size in contraction<a class=\"anchor\" id=\"example1\"></a>"
   ]
  },
  {
   "cell_type": "markdown",
   "id": "5218e9eb",
   "metadata": {},
   "source": [
    "The following convex minimization problem is considered\n",
    "\\begin{equation}\n",
    "f_\\star \\triangleq \\min_x f(x),\n",
    "\\end{equation}\n",
    "where $f$ is $L$-smooth and $\\mu$-strongly convex."
   ]
  },
  {
   "cell_type": "markdown",
   "id": "54330b4c",
   "metadata": {},
   "source": [
    "The package PEPit allows to compute a worst-case guarantee for **gradient descent** with fixed step size $\\gamma$. That is, it computes the smallest possible $\\tau(n, L, \\mu, \\gamma)$ such that the following guarantee holds\n",
    "\\begin{equation}\n",
    "\\| x_n - y_n \\|^2 \\leqslant \\tau(n, L, \\mu, \\gamma) \\| x_0 - y_0 \\|^2,\n",
    "\\end{equation}\n",
    "where $x_n$and $y_n$ are the outputs of the gradient descent with fixed step size $\\gamma$, starting respectively from $x_0$ and $y_0$."
   ]
  },
  {
   "cell_type": "markdown",
   "id": "83c46aaf",
   "metadata": {},
   "source": [
    "#### Algorithm"
   ]
  },
  {
   "cell_type": "markdown",
   "id": "e91e7096",
   "metadata": {},
   "source": [
    "Gradient descent with fixed step size $\\gamma$may be described as follows, for $t \\in \\{0,1, \\ldots, n-1\\}$\n",
    "\\begin{equation}\n",
    "x_{t+1} = x_t - \\gamma \\nabla f(x_t).\n",
    "\\end{equation}"
   ]
  },
  {
   "cell_type": "markdown",
   "id": "a415f610",
   "metadata": {},
   "source": [
    "#### Theoretical guarantee"
   ]
  },
  {
   "cell_type": "markdown",
   "id": "2c2570d8",
   "metadata": {},
   "source": [
    "The **tight** theoretical guarantee is \n",
    "\\begin{equation}\n",
    "\\| x_n - y_n \\|^2 \\leqslant  \\max\\{(1-L\\gamma)^2,(1-\\mu \\gamma)^2\\}^n\\| x_0 - y_0 \\|^2,\n",
    "\\end{equation}\n",
    "which is tight on simple quadratic functions."
   ]
  },
  {
   "cell_type": "markdown",
   "id": "794f2c68",
   "metadata": {},
   "source": [
    "### 1.1 Worst-case guarantee as a function of the iteration count <a class=\"anchor\" id=\"section_1_1\"></a>"
   ]
  },
  {
   "cell_type": "code",
   "execution_count": 5,
   "id": "4b413028",
   "metadata": {},
   "outputs": [],
   "source": [
    "# Set the parameters\n",
    "\n",
    "L = 1          # smoothness parameter\n",
    "mu = 0.1       # strong-convexity parameter\n",
    "gamma = 1 / L  # step size\n",
    "\n",
    "# Set a list of iteration counter to test\n",
    "ns = np.array([1, 2, 4, 6, 8, 10, 15])#, 20, 30, 40, 50])\n",
    "\n",
    "\n",
    "# Compute worst-case and theoretical guarantee for each iteration count\n",
    "pepit_taus = np.zeros(len(ns))\n",
    "theoretical_taus = np.zeros(len(ns))\n",
    "for i in range(len(ns)):\n",
    "    pepit_taus[i], theoretical_taus[i] = inGDC.wc_gradient_descent_contraction(mu=mu, \n",
    "                                                                               L=L, \n",
    "                                                                               gamma=gamma, \n",
    "                                                                               n=ns[i], \n",
    "                                                                               verbose=verbose)"
   ]
  },
  {
   "cell_type": "code",
   "execution_count": 6,
   "id": "2c92ddd7",
   "metadata": {},
   "outputs": [
    {
     "data": {
      "image/png": "[encoded data removed]",
      "text/plain": [
       "<Figure size 432x288 with 1 Axes>"
      ]
     },
     "metadata": {
      "needs_background": "light"
     },
     "output_type": "display_data"
    }
   ],
   "source": [
    "# Plot theoretical and PEPit worst-case performance as a function of the iteration count\n",
    "\n",
    "plt.plot(ns, pepit_taus, label='PEPit worst case', marker='x')\n",
    "plt.plot(ns, theoretical_taus, label='Theoretical tight bound', marker='x')\n",
    "\n",
    "plt.semilogy()\n",
    "plt.legend()\n",
    "plt.xlabel('Interation count n (log scale)')\n",
    "plt.ylabel('Worst case guarantee')\n",
    "\n",
    "plt.show()"
   ]
  },
  {
   "cell_type": "markdown",
   "id": "af943ebc",
   "metadata": {},
   "source": [
    "### 1.2 Worst-case guarantee as a function of the step size] <a class=\"anchor\" id=\"section_1_2\"></a>"
   ]
  },
  {
   "cell_type": "code",
   "execution_count": 7,
   "id": "9db9e3a8",
   "metadata": {},
   "outputs": [],
   "source": [
    "# Set the parameters\n",
    "n = 1      # iteration counter\n",
    "L = 1      # smoothness parameter\n",
    "mu = 0.1   # strong-convexity parameter\n",
    "\n",
    "# Set a list of step sizes to test\n",
    "gammas = np.linspace(0, 2 / L, 41)\n",
    "\n",
    "# Compute worst-case and theoretical guarantee for step size\n",
    "pepit_taus = np.zeros(len(gammas))\n",
    "theoretical_taus = np.zeros(len(gammas))\n",
    "for i in range(len(gammas)):\n",
    "    pepit_taus[i], theoretical_taus[i] = inGDC.wc_gradient_descent_contraction(mu=mu, \n",
    "                                                                               L=L, \n",
    "                                                                               gamma=gammas[i], \n",
    "                                                                               n=n, \n",
    "                                                                               verbose=verbose)"
   ]
  },
  {
   "cell_type": "code",
   "execution_count": 8,
   "id": "5c341173",
   "metadata": {},
   "outputs": [
    {
     "data": {
      "image/png": "[encoded data removed]",
      "text/plain": [
       "<Figure size 432x288 with 1 Axes>"
      ]
     },
     "metadata": {
      "needs_background": "light"
     },
     "output_type": "display_data"
    }
   ],
   "source": [
    "# Plot theoretical and PEPit worst-case performance as a function of the step size\n",
    "\n",
    "plt.plot(gammas, pepit_taus, label='PEPit worst case')\n",
    "plt.plot(gammas, theoretical_taus, label='Theoretical tight bound')\n",
    "\n",
    "plt.legend()\n",
    "plt.xlabel('Step size')\n",
    "plt.ylabel('Worst case guarantee')\n",
    "\n",
    "plt.show()"
   ]
  },
  {
   "cell_type": "markdown",
   "id": "eaa0d01d",
   "metadata": {},
   "source": [
    "## Example 2 : Accelerated gradient method for strongly convex objective<a class=\"anchor\" id=\"example2\"></a>"
   ]
  },
  {
   "cell_type": "markdown",
   "id": "0579d45f",
   "metadata": {},
   "source": [
    "The following convex minimization problem is considered\n",
    "\\begin{equation}\n",
    "f_\\star \\triangleq \\min_x f(x),\n",
    "\\end{equation}\n",
    "where $f$ is $L$-smooth and $\\mu$-strongly convex.\n"
   ]
  },
  {
   "cell_type": "markdown",
   "id": "2630592c",
   "metadata": {},
   "source": [
    "The package PEPit allows to compute a worst-case guarantee for the **accelerated gradient** method a.k.a **fast gradient** method. That is, it computes the smallest possible $\\tau(n, L, \\mu)$ such that the following guarantee holds\n",
    "\\begin{equation}\n",
    "f(x_n) - f_\\star \\leqslant \\tau(n, L, \\mu) \\left(F(x_0) - F_\\star + \\frac{\\mu}{2}\\| x_0 - x_\\star\\|^2_2\\right),\n",
    "\\end{equation}\n",
    "where $x_n$ is the output of the accelerated gradient method, and where $x_\\star$ is the minimizer of $f$.\n"
   ]
  },
  {
   "cell_type": "markdown",
   "id": "1b2e0414",
   "metadata": {},
   "source": [
    "#### Algorithm"
   ]
  },
  {
   "cell_type": "markdown",
   "id": "93d6c78e",
   "metadata": {},
   "source": [
    "The accelerated gradient method may be described as follows, for $t \\in \\{0,1, \\ldots, n-1\\}$\n",
    "\\begin{equation}\n",
    "\\begin{aligned}\n",
    "        x_{t+1} & = y_t - \\alpha \\nabla F(y_t),\\\\\n",
    "        y_{t+1} & = x_{t+1} + \\beta (x_{t+1} - x_{t}),\n",
    "    \\end{aligned}\n",
    "\\end{equation}\n",
    "with $\\kappa = \\frac{\\mu}{L}$, $\\alpha = \\frac{1}{L}$ and $\\beta = \\frac{1 - \\sqrt{\\kappa}}{1 + \\sqrt{\\kappa}}$."
   ]
  },
  {
   "cell_type": "markdown",
   "id": "6de2c8a5",
   "metadata": {},
   "source": [
    "#### Theoretical guarantee"
   ]
  },
  {
   "cell_type": "markdown",
   "id": "95b2b2ef",
   "metadata": {},
   "source": [
    "A following **upper** theoretical guarantee is \n",
    "\\begin{equation}\n",
    "F(x_n) - F_\\star \\leqslant \\tau(n, L, \\mu) \\left(F(x_0) -  F(x_\\star) + \\frac{\\mu}{2}\\|x_0 - x_\\star\\|^2_2\\right).\n",
    "\\end{equation}"
   ]
  },
  {
   "cell_type": "markdown",
   "id": "657f6f25",
   "metadata": {},
   "source": [
    "#### Plot worst-case guarantee as a function of the iteration count"
   ]
  },
  {
   "cell_type": "code",
   "execution_count": 15,
   "id": "cb258384",
   "metadata": {},
   "outputs": [],
   "source": [
    "# Set the parameters\n",
    "\n",
    "L = 1          # smoothness parameter\n",
    "mu = 0.1       # strong-convexity parameter\n",
    "gamma = 1 / L  # step size\n",
    "\n",
    "# Set a list of iteration counter to test\n",
    "ns = np.array([1, 2, 4, 6, 8, 10, 15])#, 20, 30, 40, 50])\n",
    "\n",
    "\n",
    "# Compute worst-case and theoretical guarantee for each iteration count\n",
    "pepit_taus = np.zeros(len(ns))\n",
    "theoretical_taus = np.zeros(len(ns))\n",
    "for i in range(len(ns)):\n",
    "    pepit_taus[i], theoretical_taus[i] = instrFGM.wc_accelerated_gradient_strongly_convex(mu=mu, \n",
    "                                                                                          L=L, \n",
    "                                                                                          n=ns[i], \n",
    "                                                                                          verbose=verbose)"
   ]
  },
  {
   "cell_type": "code",
   "execution_count": 16,
   "id": "c3cf377d",
   "metadata": {},
   "outputs": [
    {
     "data": {
      "image/png": "[encoded data removed]",
      "text/plain": [
       "<Figure size 432x288 with 1 Axes>"
      ]
     },
     "metadata": {
      "needs_background": "light"
     },
     "output_type": "display_data"
    }
   ],
   "source": [
    "# Plot theoretical and PEPit worst-case performance as a function of the iteration count\n",
    "plt.plot(ns, pepit_taus, label='PEPit worst case', marker='x')\n",
    "plt.plot(ns, theoretical_taus, label='Theoretical upper bound', marker='x')\n",
    "\n",
    "plt.semilogy()\n",
    "plt.legend()\n",
    "plt.xlabel('Interation count n (log scale)')\n",
    "plt.ylabel('Worst case guarantee')\n",
    "\n",
    "plt.show()"
   ]
  },
  {
   "cell_type": "markdown",
   "id": "71b07b9f",
   "metadata": {},
   "source": [
    "## Example 3 : Accelerated Douglas Rachford Splitting<a class=\"anchor\" id=\"example3\"></a>"
   ]
  },
  {
   "cell_type": "markdown",
   "id": "521739c5",
   "metadata": {},
   "source": [
    "The following composite convex minimization problem is considered\n",
    "\\begin{equation}\n",
    "    F_\\star \\triangleq \\min_x \\{F(x) \\equiv f_1(x) + f_2(x)\\},\n",
    "\\end{equation}\n",
    "where $f_1$ is closed proper and convex, and $f_2$ is $\\mu$-strongly convex and $L$-smooth."
   ]
  },
  {
   "cell_type": "markdown",
   "id": "273cd0a8",
   "metadata": {},
   "source": [
    "The package PEPit allows to compute a worst-case guarantee for **accelerated Douglas Rachford**. That is, it computes the smallest possible $\\tau(n, L, \\mu, \\alpha)$ such that the following guarantee holds\n",
    "\\begin{equation}\n",
    "F(y_n) - F(x_\\star) \\leqslant \\tau(n, L, \\mu, \\alpha) \\| w_0 - w_\\star \\|^2,\n",
    "\\end{equation}\n",
    "where $\\alpha$ is a parameter of the method, and where $y_n$ is the output of the accelerated Douglas Rachford Splitting method, where $x_\\star$ is a minimizer of $F$, and $w_\\star$ defined such that\n",
    "\\begin{equation}\n",
    "x_\\star = \\text{prox}_{\\alpha f_2}(w_\\star)\n",
    "\\end{equation}\n",
    "is an optimal point."
   ]
  },
  {
   "cell_type": "markdown",
   "id": "e2693325",
   "metadata": {},
   "source": [
    "#### Algorithm"
   ]
  },
  {
   "cell_type": "markdown",
   "id": "dc64b482",
   "metadata": {},
   "source": [
    "Accelerated Douglas Rachford Splitting may be described as follows, for $t \\in \\{0,1, \\ldots, n-1\\}$\n",
    "\\begin{equation}\n",
    "    \\begin{aligned}\n",
    "        x_t     &= \\mathrm{prox}_{\\alpha f_2}(u_t), \\\\\n",
    "        y_t     &= \\mathrm{prox}_{\\alpha f_1}(2x_t - u_t), \\\\\n",
    "        w_{t+1} &= u_t +\\theta (y_t - x_t), \\\\\n",
    "        u_{t+1} &= \\left\\{\\begin{array}{ll} w_{t+1}+\\frac{t-1}{t+2}(w_{t+1}-w_t)\\, & \\mbox{if } t \\geqslant 1,\\\\\n",
    "                w_{t+1} & \\mbox{otherwise,} \\end{array} \\right.\n",
    "    \\end{aligned}\n",
    "\\end{equation}"
   ]
  },
  {
   "cell_type": "markdown",
   "id": "35690652",
   "metadata": {},
   "source": [
    "#### Theoretical guarantee"
   ]
  },
  {
   "cell_type": "markdown",
   "id": "b140c76e",
   "metadata": {},
   "source": [
    "There is no theoretical guarantee for this method beyond quadratic minimization. For quadratics, an **upper** bound is \n",
    "\\begin{equation}\n",
    "    F(y_n) - F_\\star \\leqslant  \\frac{2\\|x_0 - w_\\star\\|^2_2}{\\alpha \\theta(n+3)^2},\n",
    "\\end{equation}\n",
    "when $\\theta = \\frac{1 - \\alpha L}{1 + \\alpha L}$ and $\\alpha < \\frac{1}{L}$."
   ]
  },
  {
   "cell_type": "markdown",
   "id": "5f478a8c",
   "metadata": {},
   "source": [
    "#### Plot worst-case guarantee as a function of the iteration count"
   ]
  },
  {
   "cell_type": "code",
   "execution_count": 11,
   "id": "a9a0282f",
   "metadata": {},
   "outputs": [],
   "source": [
    "# Set the parameters\n",
    "\n",
    "L = 1          # smoothness parameter\n",
    "mu = 0.1       # strong-convexity parameter\n",
    "gamma = 1 / L  # step size\n",
    "alpha = 0.9\n",
    "\n",
    "# Set a list of iteration counter to test\n",
    "ns = np.array([1, 2, 4, 6, 8, 10, 15])#, 20, 30, 40, 50])\n",
    "\n",
    "\n",
    "# Compute worst-case and theoretical guarantee for each iteration count\n",
    "pepit_taus = np.zeros(len(ns))\n",
    "theoretical_taus = np.zeros(len(ns))\n",
    "for i in range(len(ns)):\n",
    "    pepit_taus[i], theoretical_taus[i] = inADRS.wc_accelerated_douglas_rachford_splitting(mu=mu, \n",
    "                                                                                          L=L, \n",
    "                                                                                          alpha=alpha, \n",
    "                                                                                          n=ns[i], \n",
    "                                                                                          verbose=verbose)"
   ]
  },
  {
   "cell_type": "code",
   "execution_count": 12,
   "id": "66a7af8d",
   "metadata": {},
   "outputs": [
    {
     "data": {
      "image/png": "[encoded data removed]",
      "text/plain": [
       "<Figure size 432x288 with 1 Axes>"
      ]
     },
     "metadata": {
      "needs_background": "light"
     },
     "output_type": "display_data"
    }
   ],
   "source": [
    "# Plot theoretical and PEPit worst-case performance as a function of the iteration count\n",
    "plt.plot(ns, pepit_taus, label='PEPit worst case', marker='x')\n",
    "plt.plot(ns, theoretical_taus, label='Theoretical upper bound for quadratics', marker='x')\n",
    "\n",
    "plt.semilogy()\n",
    "plt.semilogx()\n",
    "plt.legend()\n",
    "plt.xlabel('Interation count n (log scale)')\n",
    "plt.ylabel('Worst case guarantee')\n",
    "\n",
    "plt.show()"
   ]
  },
  {
   "cell_type": "markdown",
   "id": "d8844d5c",
   "metadata": {},
   "source": [
    "## Example 4 : Point SAGA<a class=\"anchor\" id=\"example4\"></a>"
   ]
  },
  {
   "cell_type": "markdown",
   "id": "5a68b992",
   "metadata": {},
   "source": [
    "More precisely, the following finite sum minimization problem is considered\n",
    "\\begin{equation}\n",
    "F_\\star \\triangleq \\min_x \\left\\{F(x) \\equiv \\frac{1}{n} \\sum_{i=1}^{n} f_i(x)\\right\\},\n",
    "\\end{equation}\n",
    "where $f_1, \\ldots, f_n$ are $L$-smooth and $\\mu$-strongly convex functions with a proximal operator available for each of them."
   ]
  },
  {
   "cell_type": "markdown",
   "id": "def54669",
   "metadata": {},
   "source": [
    "The package PEPit allows to compute a tight (one-step) worst-case guarantee using a Lyapunov function for **Point SAGA**. The Lyapunov (or energy) function at a point $x$ is given by:\n",
    "\\begin{equation}\n",
    "V(x) = \\frac{1}{L \\mu}\\frac{1}{n} \\sum_{i \\leqslant n} \\|\\nabla f_i(x) - \\nabla f_i(x_\\star)\\|^2_2 + \\|x - x_\\star\\|^2_2,\n",
    "\\end{equation}\n",
    "where $x_\\star$ denotes the minimizer of $F$. The code computes the smallest possible $\\tau(n, L, \\mu)$ such that the guarantee (in expectation)\n",
    "\\begin{equation}\n",
    "\\mathbb{E}_{j_t}\\Big[V\\big(x^{(t+1)}_{j_t}\\big)\\Big] \\leqslant \\tau(n, L, \\mu) V(x^{(t)}),\n",
    "\\end{equation}\n",
    "is valid."
   ]
  },
  {
   "cell_type": "markdown",
   "id": "cc677b0a",
   "metadata": {},
   "source": [
    "#### Algorithm"
   ]
  },
  {
   "cell_type": "markdown",
   "id": "506e456f",
   "metadata": {},
   "source": [
    "At each iteration $t$, Point SAGA picks $j_t \\in \\{1, \\ldots, n\\}$ uniformly at random and performs the following updates\n",
    "\\begin{equation*}\n",
    "    \\begin{aligned}\n",
    "    z_{j_t}^{(t)} &= x^{(t)} + \\gamma \\left(g_{j_t}^{(t)} - \\frac{1}{n} \\sum_i g_i^{(t)}\\right),\\\\\n",
    "    x^{(t+1)}_{j_t} &= \\mathrm{prox}_{\\gamma f_{j_t}} \\left(z_{j_t}^{(t)}\\right),\\\\\n",
    "    g_{j_t}^{(t+1)} &= \\frac{1}{\\gamma}\\left(z_{j_t}^{(t)} - x^{(t+1)}_{j_t}\\right),\n",
    "    \\end{aligned}\n",
    "\\end{equation*}\n",
    "where $\\gamma=\\frac{\\sqrt{(n - 1)^2 + 4n\\frac{L}{\\mu}}}{2Ln} - \\frac{\\left(1 - \\frac{1}{n}\\right)}{2L}$ is the step size."
   ]
  },
  {
   "cell_type": "markdown",
   "id": "4a60bfb7",
   "metadata": {},
   "source": [
    "#### Thoeretical guarantee"
   ]
  },
  {
   "cell_type": "markdown",
   "id": "7e47faf7",
   "metadata": {},
   "source": [
    "A theoretical **upper** bound is given by\n",
    "\\begin{equation}\n",
    "\\mathbb{E}_{j_t}[V(x^{(t+1)}_{j_t})] \\leqslant \\frac{1}{1 + \\mu\\gamma} V(x^{(t)}).\n",
    "\\end{equation}"
   ]
  },
  {
   "cell_type": "markdown",
   "id": "9de1cc5a",
   "metadata": {},
   "source": [
    "#### Plot worst-case guarantee as a function of the condition number"
   ]
  },
  {
   "cell_type": "markdown",
   "id": "39e5b0b4",
   "metadata": {},
   "source": [
    "We have seen that the proof is based on a Lyapunov function, that is decreasing along the sequence at some rate. This allows to extend the convergence result to larger iteration counts, and thus to plot convergence as a function of the condition number $\\kappa = \\frac{L}{\\mu}$."
   ]
  },
  {
   "cell_type": "code",
   "execution_count": 13,
   "id": "3c61802d",
   "metadata": {},
   "outputs": [],
   "source": [
    "# Set the parameters\n",
    "\n",
    "L = 1          # smoothness parameter\n",
    "n = 5         # the number of functions\n",
    "\n",
    "# Set a list of strong convesity parameter to test, given that the condition number kappa = L / mu\n",
    "mus = np.array([0.1, 0.05, 0.02, 0.01, 0.005, 0.002, 0.001, 0.0005, 0.0002, 0.0001, 0.00005, 0.00002, 0.00001])\n",
    "    \n",
    "\n",
    "\n",
    "# Compute worst-case and theoretical guarantee for each iteration count\n",
    "pepit_taus = np.zeros(len(mus))\n",
    "theoretical_taus = np.zeros(len(mus))\n",
    "for i in range(len(mus)):\n",
    "    pepit_taus[i], theoretical_taus[i] = inPSAGA.wc_point_saga(L=L, \n",
    "                                                               mu=mus[i], \n",
    "                                                               n=n, \n",
    "                                                               verbose=verbose)"
   ]
  },
  {
   "cell_type": "code",
   "execution_count": 14,
   "id": "95881835",
   "metadata": {},
   "outputs": [
    {
     "data": {
      "image/png": "[encoded data removed]",
      "text/plain": [
       "<Figure size 432x288 with 1 Axes>"
      ]
     },
     "metadata": {
      "needs_background": "light"
     },
     "output_type": "display_data"
    }
   ],
   "source": [
    "# Plot theoretical and PEPit worst-case performance as a function of the iteration count\n",
    "\n",
    "plt.plot(L/mus, pepit_taus, label='PEPit worst case')\n",
    "plt.plot(L/mus, theoretical_taus, label='Theoretical upper bound')\n",
    "\n",
    "plt.semilogx()\n",
    "plt.legend()\n",
    "plt.xlabel('Condition number')\n",
    "plt.ylabel('Worst case guarantee')\n",
    "\n",
    "plt.show()"
   ]
  }
 ],
 "metadata": {
  "kernelspec": {
   "display_name": "Python 3 (ipykernel)",
   "language": "python",
   "name": "python3"
  },
  "language_info": {
   "codemirror_mode": {
    "name": "ipython",
    "version": 3
   },
   "file_extension": ".py",
   "mimetype": "text/x-python",
   "name": "python",
   "nbconvert_exporter": "python",
   "pygments_lexer": "ipython3",
   "version": "3.9.7"
  }
 },
 "nbformat": 4,
 "nbformat_minor": 5
}
