{
 "cells": [
  {
   "cell_type": "markdown",
   "metadata": {},
   "source": [
    "[![Open In Colab](https://colab.research.google.com/assets/colab-badge.svg)](https://colab.research.google.com/github/bgoujaud/PEPit/blob/main/ressources/demo/PEPit_demo.ipynb)"
   ]
  },
  {
   "cell_type": "markdown",
   "metadata": {},
   "source": [
    "# PEPit : numerical examples of worst-case analyses"
   ]
  },
  {
   "cell_type": "markdown",
   "metadata": {},
   "source": [
    "This notebook provides:\n",
    "- a simple example illustrating how to obtain the worst-case guarantee for **gradient descent** using the PEPit package,\n",
    "- a more in-depth study of the results for 4 particular examples, for which we compare analytical  and numerical worst-case guarantees, obtained respectively in the literature and by PEPit.  \n",
    "\n",
    "In short, PEPit is a package enabling **computer-assisted worst-case analyses** of first-order optimization methods. The key underlying idea is to cast the problem of performing a worst-case analysis, often referred to as a performance estimation problem (PEP), as a semidefinite program (SDP) which can be solved numerically. For doing that, the package users are only required to write first-order methods nearly as they would have implemented them. The package then takes care of the SDP modelling parts, and the worst-case analysis is performed numerically via a standard solver.\n",
    "\n",
    "\n",
    "PEPit can be installed following these [instructions](https://pypi.org/project/PEPit/), and a quickstart is available in its [documentation](https://pepit.readthedocs.io/en/latest/). More information can be found in the [PEPit reference paper](https://arxiv.org/pdf/2201.04040.pdf)."
   ]
  },
  {
   "cell_type": "markdown",
   "metadata": {
    "toc": true
   },
   "source": [
    "<h1>Table of Contents<span class=\"tocSkip\"></span></h1>\n",
    "<div class=\"toc\"><ul class=\"toc-item\"><li><span><a href=\"#Installing-PEPit\" data-toc-modified-id=\"Installing-PEPit-1\"><span class=\"toc-item-num\">1&nbsp;&nbsp;</span>Installing PEPit</a></span></li><li><span><a href=\"#How-to-obtain-the-worst-case-guarantee-for-GD-using-PEPit\" data-toc-modified-id=\"How-to-obtain-the-worst-case-guarantee-for-GD-using-PEPit-2\"><span class=\"toc-item-num\">2&nbsp;&nbsp;</span>How to obtain the worst case guarantee for GD using PEPit</a></span><ul class=\"toc-item\"><li><span><a href=\"#Imports.\" data-toc-modified-id=\"Imports.-2.1\"><span class=\"toc-item-num\">2.1&nbsp;&nbsp;</span>Imports.</a></span></li><li><span><a href=\"#Initialization-of-PEPit.\" data-toc-modified-id=\"Initialization-of-PEPit.-2.2\"><span class=\"toc-item-num\">2.2&nbsp;&nbsp;</span>Initialization of PEPit.</a></span></li><li><span><a href=\"#Choose-parameters-values\" data-toc-modified-id=\"Choose-parameters-values-2.3\"><span class=\"toc-item-num\">2.3&nbsp;&nbsp;</span>Choose parameters values</a></span></li><li><span><a href=\"#Specifying-the-problem-class.\" data-toc-modified-id=\"Specifying-the-problem-class.-2.4\"><span class=\"toc-item-num\">2.4&nbsp;&nbsp;</span>Specifying the problem class.</a></span></li><li><span><a href=\"#Algorithm-initialization.\" data-toc-modified-id=\"Algorithm-initialization.-2.5\"><span class=\"toc-item-num\">2.5&nbsp;&nbsp;</span>Algorithm initialization.</a></span></li><li><span><a href=\"#Algorithm-implementation.\" data-toc-modified-id=\"Algorithm-implementation.-2.6\"><span class=\"toc-item-num\">2.6&nbsp;&nbsp;</span>Algorithm implementation.</a></span></li><li><span><a href=\"#Setting-up-a-performance-measure.\" data-toc-modified-id=\"Setting-up-a-performance-measure.-2.7\"><span class=\"toc-item-num\">2.7&nbsp;&nbsp;</span>Setting up a performance measure.</a></span></li><li><span><a href=\"#Solving-the-PEP.\" data-toc-modified-id=\"Solving-the-PEP.-2.8\"><span class=\"toc-item-num\">2.8&nbsp;&nbsp;</span>Solving the PEP.</a></span></li><li><span><a href=\"#Comparing-to-the-an-analytical-upper-bound-(or-worst-case-guarantee)-provided-by-the-literature.\" data-toc-modified-id=\"Comparing-to-the-an-analytical-upper-bound-(or-worst-case-guarantee)-provided-by-the-literature.-2.9\"><span class=\"toc-item-num\">2.9&nbsp;&nbsp;</span>Comparing to the an analytical upper bound (or worst case guarantee) provided by the literature.</a></span></li><li><span><a href=\"#Conclusion.\" data-toc-modified-id=\"Conclusion.-2.10\"><span class=\"toc-item-num\">2.10&nbsp;&nbsp;</span>Conclusion.</a></span></li></ul></li><li><span><a href=\"#Comparison-of-analytical-(obtained-in-the-literature)-and-numerical-(obtained-by-PEPit)-worst-case-guarantees-on-4-more-advanced-methods.\" data-toc-modified-id=\"Comparison-of-analytical-(obtained-in-the-literature)-and-numerical-(obtained-by-PEPit)-worst-case-guarantees-on-4-more-advanced-methods.-3\"><span class=\"toc-item-num\">3&nbsp;&nbsp;</span>Comparison of analytical (obtained in the literature) and numerical (obtained by PEPit) worst-case guarantees on 4 more advanced methods.</a></span><ul class=\"toc-item\"><li><span><a href=\"#Example-1-:-Gradient-descent-with-fixed-step-size-in-contraction\" data-toc-modified-id=\"Example-1-:-Gradient-descent-with-fixed-step-size-in-contraction-3.1\"><span class=\"toc-item-num\">3.1&nbsp;&nbsp;</span>Example 1 : Gradient descent with fixed step size in contraction<a class=\"anchor\" id=\"example1\"></a></a></span><ul class=\"toc-item\"><li><span><a href=\"#Algorithm\" data-toc-modified-id=\"Algorithm-3.1.1\"><span class=\"toc-item-num\">3.1.1&nbsp;&nbsp;</span>Algorithm</a></span></li><li><span><a href=\"#Theoretical-guarantee\" data-toc-modified-id=\"Theoretical-guarantee-3.1.2\"><span class=\"toc-item-num\">3.1.2&nbsp;&nbsp;</span>Theoretical guarantee</a></span></li><li><span><a href=\"#1.1-Worst-case-guarantees-as-functions-of-the-iteration-count-\" data-toc-modified-id=\"1.1-Worst-case-guarantees-as-functions-of-the-iteration-count--3.1.3\"><span class=\"toc-item-num\">3.1.3&nbsp;&nbsp;</span>1.1 Worst-case guarantees as functions of the iteration count <a class=\"anchor\" id=\"section_1_1\"></a></a></span></li><li><span><a href=\"#1.2-Worst-case-guarantees-as-functions-of-the-step-size-\" data-toc-modified-id=\"1.2-Worst-case-guarantees-as-functions-of-the-step-size--3.1.4\"><span class=\"toc-item-num\">3.1.4&nbsp;&nbsp;</span>1.2 Worst-case guarantees as functions of the step size <a class=\"anchor\" id=\"section_1_2\"></a></a></span></li></ul></li><li><span><a href=\"#Example-2-:-An-accelerated-gradient-method-for-strongly-convex-objectives\" data-toc-modified-id=\"Example-2-:-An-accelerated-gradient-method-for-strongly-convex-objectives-3.2\"><span class=\"toc-item-num\">3.2&nbsp;&nbsp;</span>Example 2 : An accelerated gradient method for strongly convex objectives<a class=\"anchor\" id=\"example2\"></a></a></span><ul class=\"toc-item\"><li><span><a href=\"#Algorithm\" data-toc-modified-id=\"Algorithm-3.2.1\"><span class=\"toc-item-num\">3.2.1&nbsp;&nbsp;</span>Algorithm</a></span></li><li><span><a href=\"#Theoretical-guarantee\" data-toc-modified-id=\"Theoretical-guarantee-3.2.2\"><span class=\"toc-item-num\">3.2.2&nbsp;&nbsp;</span>Theoretical guarantee</a></span></li><li><span><a href=\"#Plot-worst-case-guarantees-as-functions-of-the-iteration-count\" data-toc-modified-id=\"Plot-worst-case-guarantees-as-functions-of-the-iteration-count-3.2.3\"><span class=\"toc-item-num\">3.2.3&nbsp;&nbsp;</span>Plot worst-case guarantees as functions of the iteration count</a></span></li></ul></li><li><span><a href=\"#Example-3-:-An-accelerated-Douglas-Rachford-splitting\" data-toc-modified-id=\"Example-3-:-An-accelerated-Douglas-Rachford-splitting-3.3\"><span class=\"toc-item-num\">3.3&nbsp;&nbsp;</span>Example 3 : An accelerated Douglas-Rachford splitting<a class=\"anchor\" id=\"example3\"></a></a></span><ul class=\"toc-item\"><li><span><a href=\"#Algorithm\" data-toc-modified-id=\"Algorithm-3.3.1\"><span class=\"toc-item-num\">3.3.1&nbsp;&nbsp;</span>Algorithm</a></span></li><li><span><a href=\"#Theoretical-guarantee\" data-toc-modified-id=\"Theoretical-guarantee-3.3.2\"><span class=\"toc-item-num\">3.3.2&nbsp;&nbsp;</span>Theoretical guarantee</a></span></li><li><span><a href=\"#Plot-worst-case-guarantees-as-functions-of-the-iteration-count\" data-toc-modified-id=\"Plot-worst-case-guarantees-as-functions-of-the-iteration-count-3.3.3\"><span class=\"toc-item-num\">3.3.3&nbsp;&nbsp;</span>Plot worst-case guarantees as functions of the iteration count</a></span></li></ul></li><li><span><a href=\"#Example-4-:-point-SAGA\" data-toc-modified-id=\"Example-4-:-point-SAGA-3.4\"><span class=\"toc-item-num\">3.4&nbsp;&nbsp;</span>Example 4 : point-SAGA<a class=\"anchor\" id=\"example4\"></a></a></span><ul class=\"toc-item\"><li><span><a href=\"#Algorithm\" data-toc-modified-id=\"Algorithm-3.4.1\"><span class=\"toc-item-num\">3.4.1&nbsp;&nbsp;</span>Algorithm</a></span></li><li><span><a href=\"#Thoeretical-guarantee\" data-toc-modified-id=\"Thoeretical-guarantee-3.4.2\"><span class=\"toc-item-num\">3.4.2&nbsp;&nbsp;</span>Thoeretical guarantee</a></span></li><li><span><a href=\"#Plot-worst-case-guarantees-as-functions-of-the-condition-number\" data-toc-modified-id=\"Plot-worst-case-guarantees-as-functions-of-the-condition-number-3.4.3\"><span class=\"toc-item-num\">3.4.3&nbsp;&nbsp;</span>Plot worst-case guarantees as functions of the condition number</a></span></li></ul></li></ul></li></ul></div>"
   ]
  },
  {
   "cell_type": "markdown",
   "metadata": {},
   "source": [
    "## Installing PEPit"
   ]
  },
  {
   "cell_type": "code",
   "execution_count": 40,
   "metadata": {
    "scrolled": true,
    "tags": []
   },
   "outputs": [
    {
     "name": "stdout",
     "output_type": "stream",
     "text": [
      "Requirement already satisfied: pepit in /Users/dieuleve/anaconda3/lib/python3.6/site-packages (0.0.1)\n",
      "Requirement already satisfied: cvxpy>=1.1.17 in /Users/dieuleve/anaconda3/lib/python3.6/site-packages (from pepit) (1.1.18)\n",
      "Requirement already satisfied: osqp>=0.4.1 in /Users/dieuleve/anaconda3/lib/python3.6/site-packages (from cvxpy>=1.1.17->pepit) (0.6.1)\n",
      "Requirement already satisfied: numpy>=1.15 in /Users/dieuleve/anaconda3/lib/python3.6/site-packages (from cvxpy>=1.1.17->pepit) (1.19.5)\n",
      "Requirement already satisfied: scs>=1.1.6 in /Users/dieuleve/anaconda3/lib/python3.6/site-packages (from cvxpy>=1.1.17->pepit) (2.1.2)\n",
      "Requirement already satisfied: scipy>=1.1.0 in /Users/dieuleve/anaconda3/lib/python3.6/site-packages (from cvxpy>=1.1.17->pepit) (1.4.1)\n",
      "Requirement already satisfied: ecos>=2 in /Users/dieuleve/anaconda3/lib/python3.6/site-packages (from cvxpy>=1.1.17->pepit) (2.0.4)\n",
      "Requirement already satisfied: future in /Users/dieuleve/anaconda3/lib/python3.6/site-packages (from osqp>=0.4.1->cvxpy>=1.1.17->pepit) (0.18.2)\n",
      "\u001b[33mWARNING: You are using pip version 21.2.4; however, version 21.3.1 is available.\n",
      "You should consider upgrading via the '/Users/dieuleve/anaconda3/bin/python -m pip install --upgrade pip' command.\u001b[0m\n"
     ]
    }
   ],
   "source": [
    "# If PEPit is not installed yet, you can run this cell.\n",
    "!pip install pepit;"
   ]
  },
  {
   "cell_type": "markdown",
   "metadata": {},
   "source": [
    "## How to obtain the worst case guarantee for GD using PEPit"
   ]
  },
  {
   "cell_type": "markdown",
   "metadata": {},
   "source": [
    "In this section, we give a step-by-step tutorial on how to use PEPit to compute the worst-case convergence guarantee for Gradient Descent algorithm.\n",
    "\n",
    "We consider $x_n$ are computed from $n\\in\\mathbb{N}$ iterations of gradient descent on an $L-$smooth convex function $f$, minimized at $x_*$, with a step-size $\\gamma$ starting from $x_0$. Performing a worst case analysis amounts to computing the smallest possible value of $\\tau(\\mu,L,\\gamma,n)$ such that\n",
    "\n",
    "$$ f(x_{n})-f(x_*) \\leqslant\\  \\tau(\\mu,L,\\gamma,n)\\  \\  \\|x_0-x_*\\|^2_2 .$$\n",
    "\n",
    "\n",
    "Computing the smallest possible such $\\tau(\\mu,L,\\gamma,n)$ is equivalent  to computing the worst-case value of $f(x_{n})-f(x_*)$ under the constraint that $\\| x_{0}-x_*\\|_2^2\\leqslant 1$.\n",
    "\n",
    "To solve this, PEPit models the problem as an SDP and numerically finds the optimal value. These modeling steps are automatically performed by the toolbox: in the following, we only describe the steps that a user has to implement to obtain the worst case guarantee on a method. \n",
    "\n",
    "More generally, performing a worst-case analysis of a first-order algorithm usually relies on **four main ingredients**:\n",
    "- <font color='blue'>a class of problems</font> (containing the assumptions on the function to be minimized),\n",
    "- <font color='red'>a first-order algorithm</font> (to be analyzed), \n",
    "- <font color='purple'>a performance measure</font> (measuring the quality of the output of the algorithm under consideration),\n",
    "- <font color='green'>an initial condition</font> (measuring the quality of the initial iterate). \n",
    "The user has to specify his choice for each of those four elements."
   ]
  },
  {
   "cell_type": "markdown",
   "metadata": {},
   "source": [
    "### Imports.\n",
    "We first import the PEP and SmoothStronglyConvexFunction classes."
   ]
  },
  {
   "cell_type": "code",
   "execution_count": 53,
   "metadata": {
    "collapsed": true
   },
   "outputs": [],
   "source": [
    "from PEPit import PEP\n",
    "from PEPit.functions import SmoothStronglyConvexFunction"
   ]
  },
  {
   "cell_type": "markdown",
   "metadata": {},
   "source": [
    "### Initialization of PEPit.\n",
    "First, we initialize a PEP object. This object allows manipulating the forthcoming ingredients of the PEP, such as functions and iterates."
   ]
  },
  {
   "cell_type": "code",
   "execution_count": 54,
   "metadata": {
    "collapsed": true
   },
   "outputs": [],
   "source": [
    "# Instantiate PEP\n",
    "problem = PEP()"
   ]
  },
  {
   "cell_type": "markdown",
   "metadata": {},
   "source": [
    "### Choose parameters values\n",
    "\n",
    "For the sake of the example, we pick some simple values for the problem class and algorithmic parameters, for which we perform the worst-case analysis below. "
   ]
  },
  {
   "cell_type": "code",
   "execution_count": 55,
   "metadata": {
    "collapsed": true
   },
   "outputs": [],
   "source": [
    "# Specify values for the smoothness parameter L, number of iterations n, and the step size gamma.\n",
    "L = 3\n",
    "n = 4\n",
    "gamma =  1/L\n",
    "verbose = True"
   ]
  },
  {
   "cell_type": "markdown",
   "metadata": {},
   "source": [
    "### Specifying the problem class. \n",
    "Next, we specify our assumptions on the <font color='blue'>**class of functions**</font> containing the function to be optimized, and instantiate a corresponding object. Here, we consider an $L-$smooth and convex function. \n",
    "\n",
    "<br> <font color='grey'>*Remark*: PEPit can handle various function classes [(doc)](https://pepit.readthedocs.io/en/latest/api/functions_and_operators.html).</font>\n",
    "\n",
    "nb: we here use the ```SmoothStronglyConvexFunction``` with $\\mu=0$ but could also use ```SmoothConvexFunction```."
   ]
  },
  {
   "cell_type": "code",
   "execution_count": 56,
   "metadata": {},
   "outputs": [],
   "source": [
    "# Declare an L-smooth mu-strongly convex function named \"func\"\n",
    "func = problem.declare_function(\n",
    "                SmoothStronglyConvexFunction,\n",
    "                param={'mu': 0,    # Strong convexity param.\n",
    "                        'L': L})    # Smoothness param."
   ]
  },
  {
   "cell_type": "markdown",
   "metadata": {},
   "source": [
    "We also define $x_*$ as the optimal point and $f_*$ as the optimal value."
   ]
  },
  {
   "cell_type": "code",
   "execution_count": 57,
   "metadata": {
    "collapsed": true
   },
   "outputs": [],
   "source": [
    "# Start by defining its optimal point xs = x_* and corresponding function value fs = f_*\n",
    "xs = func.stationary_point()\n",
    "fs = func.value(xs)"
   ]
  },
  {
   "cell_type": "markdown",
   "metadata": {},
   "source": [
    "### Algorithm initialization.\n",
    "\n",
    "Third, we can instantiate the starting points for the two gradient methods that we will run, and specify an <font color='green'>**initial condition**</font> on those points. \n",
    "To this end, a starting point $x_0$ is introduced,  and a bound on the initial distance between those points is specified as $\\|x_0-x_*\\|^2\\leqslant 1$.\n",
    "\n",
    "<br> <font color='grey'> *Remark*: PEPit can handle various initial constraints, for example any linear combination of $f(x_0)-f_*$, $\\|x_0-x_*\\|^2$ or $\\|\\nabla f(x_0)\\|^2$.</font>\n"
   ]
  },
  {
   "cell_type": "code",
   "execution_count": 58,
   "metadata": {
    "collapsed": true
   },
   "outputs": [],
   "source": [
    "# Then define the starting point x0 of the algorithm\n",
    "x0 = problem.set_initial_point()\n",
    "\n",
    "# Set the initial constraint that is the distance between x0 and x^*\n",
    "problem.set_initial_condition((x0 - xs) ** 2 <= 1)"
   ]
  },
  {
   "cell_type": "markdown",
   "metadata": {
    "collapsed": true
   },
   "source": [
    "### Algorithm implementation.\n",
    "\n",
    "In this fourth step, we specify the <font color='red'>**algorithm**</font> in a natural format. In this example, we simply use the iterates (which are PEPit objects) as if we had to implement gradient descent in practice using a simple loop. Gradient descent with fixed step size $\\gamma$ may be described as follows, for $t \\in \\{0,1, \\ldots, n-1\\}$\n",
    "\\begin{equation}\n",
    "x_{t+1} = x_t - \\gamma \\nabla f(x_t).\n",
    "\\end{equation}\n",
    "\n",
    "<br> <font color='grey'>*Remark*: PEPit can handle most first order algorithms that rely on some simple [oracles](https://pepit.readthedocs.io/en/latest/api/steps.html). More than 50 examples (deterministic and stochastic, composite or not) are provided in the [documentation](https://pepit.readthedocs.io/en/latest/examples.html).</font>"
   ]
  },
  {
   "cell_type": "code",
   "execution_count": 59,
   "metadata": {
    "collapsed": true
   },
   "outputs": [],
   "source": [
    "# Run n steps of the GD method\n",
    "x = x0\n",
    "for _ in range(n):\n",
    "    x = x - gamma * func.gradient(x)"
   ]
  },
  {
   "cell_type": "markdown",
   "metadata": {},
   "source": [
    "### Setting up a performance measure.\n",
    "\n",
    "It is crucial for the worst-case analysis to specify the <font color='purple'>**performance metric**</font> for which we wish to compute a worst-case performance. In this example, we wish to compute the worst-case value of $f(x_n)-f_*$, which we specify as follows. \n",
    "\n",
    "<br> <font color='grey'> *Remark*: PEPit can handle various performance metrics, for example any linear combination of $f(x_n)-f_*$, $\\|x_n-x_*\\|^2$ or $\\|\\nabla f(x_n)\\|^2$.</font>\n"
   ]
  },
  {
   "cell_type": "code",
   "execution_count": 60,
   "metadata": {
    "collapsed": true
   },
   "outputs": [],
   "source": [
    "# Set the performance metric to the function values accuracy\n",
    "problem.set_performance_metric(func.value(x) - fs)"
   ]
  },
  {
   "cell_type": "markdown",
   "metadata": {},
   "source": [
    "### Solving the PEP.\n",
    "\n",
    "The last natural stage in the process is to solve the corresponding PEP. This is done via the following line, which will ask PEPit to perform the modelling steps and to call an appropriate SDP solver (which should be installed beforehand) to perform the worst-case analysis."
   ]
  },
  {
   "cell_type": "code",
   "execution_count": 61,
   "metadata": {},
   "outputs": [
    {
     "name": "stdout",
     "output_type": "stream",
     "text": [
      "(PEPit) Setting up the problem: size of the main PSD matrix: 7x7\n",
      "(PEPit) Setting up the problem: performance measure is minimum of 1 element(s)\n",
      "(PEPit) Setting up the problem: initial conditions (1 constraint(s) added)\n",
      "(PEPit) Setting up the problem: interpolation conditions for 1 function(s)\n",
      "\t\t function 1 : 30 constraint(s) added\n",
      "(PEPit) Compiling SDP\n",
      "(PEPit) Calling SDP solver\n",
      "(PEPit) Solver status: optimal (solver: SCS); optimal value: 0.16666664597433628\n",
      "\u001b[93m(PEPit) Postprocessing: solver's output is not entirely feasible (smallest eigenvalue of the Gram matrix is: -3.17e-09 < 0).\n",
      " Small deviation from 0 may simply be due to numerical error. Big ones should be deeply investigated.\n",
      " In any case, from now the provided values of parameters are based on the projection of the Gram matrix onto the cone of symmetric semi-definite matrix.\u001b[0m\n"
     ]
    }
   ],
   "source": [
    "# Solve the PEP\n",
    "pepit_tau = problem.solve(verbose=verbose)"
   ]
  },
  {
   "cell_type": "markdown",
   "metadata": {},
   "source": [
    "### Comparing to the an analytical upper bound (or worst case guarantee) provided by the literature.\n",
    "\n",
    "We can now compare to a **analytical value**, provided in [1, Theorem 1].  When $\\gamma \\leqslant \\frac{1}{L}$, the analytical value for the exact worst case guarantee can be found is:\n",
    "$$f(x_n)-f_* \\leqslant \\frac{L||x_0-x_\\star||^2}{4nL\\gamma+2}$$\n",
    "which is achieved on some Huber loss functions.\n",
    "\n",
    "\n",
    "[1] Y. Drori, M. Teboulle (2014). Performance of first-order methods for smooth convex minimization: a novel approach. Mathematical Programming 145(1–2), 451–482 [Arxiv](https://arxiv.org/pdf/1206.3209.pdf).\n"
   ]
  },
  {
   "cell_type": "code",
   "execution_count": 62,
   "metadata": {},
   "outputs": [
    {
     "name": "stdout",
     "output_type": "stream",
     "text": [
      "*** Worst-case performance of gradient descent with fixed step-sizes ***\n",
      "\tPEPit guarantee:\t f(x_n)-f_* <= 0.166667 ||x_0 - x_*||^2\n",
      "\tTheoretical guarantee:\t f(x_n)-f_* <= 0.166667 ||x_0 - x_*||^2\n"
     ]
    }
   ],
   "source": [
    "# Compute theoretical guarantee (for comparison)\n",
    "theoretical_tau = L / (4 * n * L * gamma + 2)\n",
    "\n",
    "# Print conclusion if required\n",
    "if verbose:\n",
    "    print('*** Worst-case performance of gradient descent with fixed step-sizes ***')\n",
    "    print('\\tPEPit guarantee:\\t f(x_n)-f_* <= {:.6} ||x_0 - x_*||^2'.format(pepit_tau))\n",
    "    print('\\tTheoretical guarantee:\\t f(x_n)-f_* <= {:.6} ||x_0 - x_*||^2'.format(theoretical_tau))"
   ]
  },
  {
   "cell_type": "markdown",
   "metadata": {},
   "source": [
    "### Conclusion. \n",
    "For the parameters specified above, the worst-case guarantee obtained numerically by PEPit matches the analytical value obtained in theory.\n",
    "\n",
    "The following code is provided as one of the 50+ examples in the package, see  [`GradientMethod`](https://pepit.readthedocs.io/en/latest/examples/a.html#gradient-descent). \n",
    "\n",
    "It is possible to directly re-run all the cells above using the ````wc_gradient_descent```` function."
   ]
  },
  {
   "cell_type": "code",
   "execution_count": 38,
   "metadata": {},
   "outputs": [
    {
     "name": "stdout",
     "output_type": "stream",
     "text": [
      "(PEPit) Setting up the problem: size of the main PSD matrix: 7x7\n",
      "(PEPit) Setting up the problem: performance measure is minimum of 1 element(s)\n",
      "(PEPit) Setting up the problem: initial conditions (1 constraint(s) added)\n",
      "(PEPit) Setting up the problem: interpolation conditions for 1 function(s)\n",
      "\t\t function 1 : 30 constraint(s) added\n",
      "(PEPit) Compiling SDP\n",
      "(PEPit) Calling SDP solver\n",
      "(PEPit) Solver status: optimal (solver: SCS); optimal value: 0.16666664597433628\n",
      "\u001b[93m(PEPit) Postprocessing: solver's output is not entirely feasible (smallest eigenvalue of the Gram matrix is: -3.17e-09 < 0).\n",
      " Small deviation from 0 may simply be due to numerical error. Big ones should be deeply investigated.\n",
      " In any case, from now the provided values of parameters are based on the projection of the Gram matrix onto the cone of symmetric semi-definite matrix.\u001b[0m\n",
      "*** Example file: worst-case performance of gradient descent with fixed step-sizes ***\n",
      "\tPEPit guarantee:\t\t f(x_n)-f_* <= 0.166667 ||x_0 - x_*||^2\n",
      "\tTheoretical guarantee:\t f(x_n)-f_* <= 0.166667 ||x_0 - x_*||^2\n"
     ]
    }
   ],
   "source": [
    "from PEPit.examples.unconstrained_convex_minimization import wc_gradient_descent\n",
    "pepit_tau, theoretical_tau = wc_gradient_descent(L=L, gamma=1 / L, n=4, verbose=True)"
   ]
  },
  {
   "cell_type": "markdown",
   "metadata": {},
   "source": [
    "## Comparison of analytical (obtained in the literature) and numerical (obtained by PEPit) worst-case guarantees on 4 more advanced methods.\n",
    "\n",
    "In this section, we compare the worst-case guarantees obtained with PEPit and to reference worst-case guarantees for four algorithms:\n",
    "- **gradient descent** with fixed step size (in terms of contraction rate)\n",
    "- an **accelerated gradient** method (see for example [this ressource](https://arxiv.org/pdf/2101.09545.pdf), Algorithm 16) for strongly convex objectives\n",
    "- an **accelerated Douglas-Rachford** splitting (see [this ressource](https://arxiv.org/pdf/1407.6723.pdf), Section IV) \n",
    "- **point-SAGA** (see [this ressource](https://proceedings.neurips.cc/paper/2016/file/4f6ffe13a5d75b2d6a3923922b3922e5-Paper.pdf), Algorithm 1).\n",
    "\n",
    "The following source code also allows to reproduce the figures of the [PEPit reference paper](https://arxiv.org/pdf/2201.04040.pdf).\n",
    "\n",
    "\n",
    "\n",
    "* [Example 1 : Gradient descent with fixed step size in contraction](#example1)\n",
    "    * [1.1 Worst-case guarantee as a function of the iteration count](#section_1_1)\n",
    "    * [1.2 Worst-case guarantee as a function of the step size](#section_1_2)\n",
    "* [Example 2 : Accelerated gradient method for strongly convex objective](#example2)\n",
    "* [Example 3 : Accelerated Douglas Rachford Splitting](#example3)\n",
    "* [Example 4 : Point-SAGA](#example4)"
   ]
  },
  {
   "cell_type": "markdown",
   "metadata": {},
   "source": [
    "**Instead  of re-implementing the methods as in Section 2 above, we directly import the corresponding examples and  python common packages (numpy, matplotlib) and PEPit.**"
   ]
  },
  {
   "cell_type": "code",
   "execution_count": 66,
   "metadata": {
    "collapsed": true,
    "pycharm": {
     "is_executing": true
    }
   },
   "outputs": [],
   "source": [
    "import numpy as np\n",
    "import matplotlib.pyplot as plt\n",
    "import PEPit\n",
    "\n",
    "# import gradient descent in contraction from the toolbox\n",
    "from PEPit.examples.tutorials import wc_gradient_descent_contraction\n",
    "# import an accelerated gradient method for the strongly convex objectives from the toolbox \n",
    "from PEPit.examples.unconstrained_convex_minimization import wc_accelerated_gradient_strongly_convex\n",
    "# import an accelerated Douglas Rachford splitting from the toolbox\n",
    "from PEPit.examples.composite_convex_minimization import wc_accelerated_douglas_rachford_splitting\n",
    "# import point-SAGA from the toolbox\n",
    "from PEPit.examples.stochastic_convex_minimization import wc_point_saga"
   ]
  },
  {
   "cell_type": "code",
   "execution_count": 67,
   "metadata": {
    "collapsed": true
   },
   "outputs": [],
   "source": [
    "# Set the verbose parameter to False to return worst-case without printing a detailed report.\n",
    "verbose = False"
   ]
  },
  {
   "cell_type": "markdown",
   "metadata": {},
   "source": [
    "### Example 1 : Gradient descent with fixed step size in contraction<a class=\"anchor\" id=\"example1\"></a>"
   ]
  },
  {
   "cell_type": "markdown",
   "metadata": {},
   "source": [
    "The following convex minimization problem is considered\n",
    "\\begin{equation}\n",
    "f_\\star \\triangleq \\min_x f(x),\n",
    "\\end{equation}\n",
    "where $f$ is $L$-smooth and $\\mu$-strongly convex."
   ]
  },
  {
   "cell_type": "markdown",
   "metadata": {},
   "source": [
    "The package PEPit allows to compute a worst-case guarantee for **gradient descent** with fixed step size $\\gamma$. That is, it computes the smallest possible $\\tau(n, L, \\mu, \\gamma)$ such that the following guarantee holds (for all initialization of the algorithm, and all $L$-smooth $\\mu$-strongly convex function)\n",
    "\\begin{equation}\n",
    "\\| x_n - y_n \\|^2 \\leqslant \\tau(n, L, \\mu, \\gamma) \\| x_0 - y_0 \\|^2,\n",
    "\\end{equation}\n",
    "where $x_n$ and $y_n$ are the outputs of the gradient descent with fixed step size $\\gamma$, starting respectively from $x_0$ and $y_0$."
   ]
  },
  {
   "cell_type": "markdown",
   "metadata": {},
   "source": [
    "#### Algorithm"
   ]
  },
  {
   "cell_type": "markdown",
   "metadata": {},
   "source": [
    "Gradient descent with fixed step size $\\gamma$ may be described as follows, for $t \\in \\{0,1, \\ldots, n-1\\}$\n",
    "\\begin{equation}\n",
    "x_{t+1} = x_t - \\gamma \\nabla f(x_t).\n",
    "\\end{equation}"
   ]
  },
  {
   "cell_type": "markdown",
   "metadata": {},
   "source": [
    "#### Theoretical guarantee"
   ]
  },
  {
   "cell_type": "markdown",
   "metadata": {},
   "source": [
    "The **tight** worst-case guarantee which we compare to below, is \n",
    "\\begin{equation}\n",
    "\\| x_n - y_n \\|^2 \\leqslant \\max\\left\\{(1-L\\gamma)^2,(1-\\mu \\gamma)^2\\right\\}^n\\| x_0 - y_0 \\|^2,\n",
    "\\end{equation}\n",
    "which is tight on simple quadratic functions."
   ]
  },
  {
   "cell_type": "markdown",
   "metadata": {},
   "source": [
    "#### 1.1 Worst-case guarantees as functions of the iteration count <a class=\"anchor\" id=\"section_1_1\"></a>"
   ]
  },
  {
   "cell_type": "code",
   "execution_count": 68,
   "metadata": {},
   "outputs": [],
   "source": [
    "# Set the parameters\n",
    "L = 1          # smoothness parameter\n",
    "mu = 0.1       # strong-convexity parameter\n",
    "gamma = 1 / L  # step size\n",
    "\n",
    "# Set a list of iteration counter to test\n",
    "n_list = np.array([1, 2, 4, 6, 8, 10, 15])\n",
    "\n",
    "\n",
    "# Compute numerical and theoretical (analytical) worst-case guarantees for each iteration count\n",
    "pepit_taus = list()\n",
    "theoretical_taus = list()\n",
    "for n in n_list:\n",
    "    pepit_tau, theoretical_tau = wc_gradient_descent_contraction(mu=mu,\n",
    "                                                                 L=L,\n",
    "                                                                 gamma=gamma,\n",
    "                                                                 n=n,\n",
    "                                                                 verbose=verbose,\n",
    "                                                                )\n",
    "    pepit_taus.append(pepit_tau)\n",
    "    theoretical_taus.append(theoretical_tau)"
   ]
  },
  {
   "cell_type": "code",
   "execution_count": 69,
   "metadata": {},
   "outputs": [
    {
     "data": {
      "image/png": "[encoded data removed]",
      "text/plain": [
       "<Figure size 432x288 with 1 Axes>"
      ]
     },
     "metadata": {},
     "output_type": "display_data"
    }
   ],
   "source": [
    "# Plot theoretical and PEPit (numerical) worst-case performance bounds as functions of the iteration count\n",
    "\n",
    "plt.plot(n_list, theoretical_taus, label='Theoretical tight bound', marker='x')\n",
    "plt.plot(n_list, pepit_taus, label='PEPit worst case', marker='x')\n",
    "\n",
    "plt.semilogy()\n",
    "plt.legend()\n",
    "plt.xlabel('Interation count n')\n",
    "plt.ylabel('Worst case guarantee')\n",
    "\n",
    "plt.show()"
   ]
  },
  {
   "cell_type": "markdown",
   "metadata": {},
   "source": [
    "#### 1.2 Worst-case guarantees as functions of the step size <a class=\"anchor\" id=\"section_1_2\"></a>"
   ]
  },
  {
   "cell_type": "code",
   "execution_count": 70,
   "metadata": {
    "collapsed": true
   },
   "outputs": [],
   "source": [
    "# Set the parameters\n",
    "n = 1      # iteration counter\n",
    "L = 1      # smoothness parameter\n",
    "mu = 0.1   # strong-convexity parameter\n",
    "\n",
    "# Set a list of step sizes to test\n",
    "gammas = np.linspace(0, 2 / L, 41)\n",
    "\n",
    "\n",
    "# Compute numerical and theoretical (analytical) worst-case guarantees for the each step size\n",
    "pepit_taus = list()\n",
    "theoretical_taus = list()\n",
    "for gamma in gammas:\n",
    "    pepit_tau, theoretical_tau = wc_gradient_descent_contraction(mu=mu,\n",
    "                                                                 L=L,\n",
    "                                                                 gamma=gamma,\n",
    "                                                                 n=n,\n",
    "                                                                 verbose=verbose,\n",
    "                                                                )\n",
    "    pepit_taus.append(pepit_tau)\n",
    "    theoretical_taus.append(theoretical_tau)"
   ]
  },
  {
   "cell_type": "code",
   "execution_count": 71,
   "metadata": {},
   "outputs": [
    {
     "data": {
      "image/png": "[encoded data removed]",
      "text/plain": [
       "<Figure size 432x288 with 1 Axes>"
      ]
     },
     "metadata": {},
     "output_type": "display_data"
    }
   ],
   "source": [
    "# Plot theoretical and PEPit (numerical) worst-case performance bounds as functions of the step size\n",
    "\n",
    "plt.plot(gammas, theoretical_taus, label='Theoretical tight bound')\n",
    "plt.plot(gammas, pepit_taus, label='PEPit worst case')\n",
    "\n",
    "plt.legend()\n",
    "plt.xlabel('Step size')\n",
    "plt.ylabel('Worst case guarantee')\n",
    "\n",
    "plt.show()"
   ]
  },
  {
   "cell_type": "markdown",
   "metadata": {},
   "source": [
    "### Example 2 : An accelerated gradient method for strongly convex objectives<a class=\"anchor\" id=\"example2\"></a>"
   ]
  },
  {
   "cell_type": "markdown",
   "metadata": {},
   "source": [
    "We consider the following convex minimization problem\n",
    "\\begin{equation}\n",
    "f_\\star \\triangleq \\min_x f(x),\n",
    "\\end{equation}\n",
    "where $f$ is $L$-smooth and $\\mu$-strongly convex.\n"
   ]
  },
  {
   "cell_type": "markdown",
   "metadata": {},
   "source": [
    "The package PEPit allows to compute a worst-case guarantee for an **accelerated gradient** method (a.k.a., **fast gradient**, or **Nesterov's accelerated** method). That is, it computes the smallest possible $\\tau(n, L, \\mu)$ such that the following guarantee holds (for all initialization and $L$-smooth $\\mu$-strongly convex function)\n",
    "\\begin{equation}\n",
    "f(x_n) - f_\\star \\leqslant \\tau(n, L, \\mu) \\left(f(x_0) - f_\\star + \\frac{\\mu}{2}\\| x_0 - x_\\star\\|^2_2\\right),\n",
    "\\end{equation}\n",
    "where $x_n$ is the output of the accelerated gradient method under consideration, and where $x_\\star$ is the minimizer of $f$.\n"
   ]
  },
  {
   "cell_type": "markdown",
   "metadata": {},
   "source": [
    "#### Algorithm"
   ]
  },
  {
   "cell_type": "markdown",
   "metadata": {},
   "source": [
    "The accelerated gradient method under consideration is described as follows, for $t \\in \\{0,1, \\ldots, n-1\\}$\n",
    "\\begin{equation}\n",
    "\\begin{aligned}\n",
    "        x_{t+1} & = y_t - \\alpha \\nabla f(y_t),\\\\\n",
    "        y_{t+1} & = x_{t+1} + \\beta (x_{t+1} - x_{t}),\n",
    "    \\end{aligned}\n",
    "\\end{equation}\n",
    "with $\\kappa = \\frac{\\mu}{L}$, $\\alpha = \\frac{1}{L}$ and $\\beta = \\frac{1 - \\sqrt{\\kappa}}{1 + \\sqrt{\\kappa}}$."
   ]
  },
  {
   "cell_type": "markdown",
   "metadata": {},
   "source": [
    "#### Theoretical guarantee"
   ]
  },
  {
   "cell_type": "markdown",
   "metadata": {},
   "source": [
    "An known worst-case guarantee is provided by \n",
    "\\begin{equation}\n",
    "f(x_n) - f_\\star \\leqslant \\tau(n, L, \\mu) \\left(f(x_0) -  f(x_\\star) + \\frac{\\mu}{2}\\|x_0 - x_\\star\\|^2_2\\right).\n",
    "\\end{equation}"
   ]
  },
  {
   "cell_type": "markdown",
   "metadata": {},
   "source": [
    "#### Plot worst-case guarantees as functions of the iteration count"
   ]
  },
  {
   "cell_type": "code",
   "execution_count": 72,
   "metadata": {},
   "outputs": [
    {
     "name": "stderr",
     "output_type": "stream",
     "text": [
      "/Users/dieuleve/anaconda3/lib/python3.6/site-packages/cvxpy/problems/problem.py:1297: UserWarning: Solution may be inaccurate. Try another solver, adjusting the solver settings, or solve with verbose=True for more information.\n",
      "  \"Solution may be inaccurate. Try another solver, \"\n"
     ]
    }
   ],
   "source": [
    "# Set the parameters\n",
    "L = 1          # smoothness parameter\n",
    "mu = 0.1       # strong-convexity parameter\n",
    "gamma = 1 / L  # step size\n",
    "\n",
    "# Set a list of iteration counter to test\n",
    "n_list = np.array([1, 2, 4, 6, 8, 10, 15])\n",
    "\n",
    "\n",
    "# Compute numerical and theoretical (analytical) worst-case guarantees for each iteration count\n",
    "pepit_taus = list()\n",
    "theoretical_taus = list()\n",
    "for n in n_list:\n",
    "    pepit_tau, theoretical_tau = wc_accelerated_gradient_strongly_convex(mu=mu,\n",
    "                                                                         L=L,\n",
    "                                                                         n=n,\n",
    "                                                                         verbose=verbose,\n",
    "                                                                        )\n",
    "    pepit_taus.append(pepit_tau)\n",
    "    theoretical_taus.append(theoretical_tau)"
   ]
  },
  {
   "cell_type": "code",
   "execution_count": 73,
   "metadata": {},
   "outputs": [
    {
     "data": {
      "image/png": "[encoded data removed]",
      "text/plain": [
       "<Figure size 432x288 with 1 Axes>"
      ]
     },
     "metadata": {},
     "output_type": "display_data"
    }
   ],
   "source": [
    "# Plot theoretical and PEPit (numerical) worst-case performance bounds as functions of the iteration count\n",
    "\n",
    "plt.plot(n_list, theoretical_taus, label='Theoretical upper bound', marker='x')\n",
    "plt.plot(n_list, pepit_taus, label='PEPit worst case', marker='x')\n",
    "\n",
    "plt.semilogy()\n",
    "plt.legend()\n",
    "plt.xlabel('Interation count n (log scale)')\n",
    "plt.ylabel('Worst case guarantee')\n",
    "\n",
    "plt.show()"
   ]
  },
  {
   "cell_type": "markdown",
   "metadata": {},
   "source": [
    "### Example 3 : An accelerated Douglas-Rachford splitting<a class=\"anchor\" id=\"example3\"></a>"
   ]
  },
  {
   "cell_type": "markdown",
   "metadata": {},
   "source": [
    "We consider the following composite convex minimization problem\n",
    "\\begin{equation}\n",
    "    F_\\star \\triangleq \\min_x \\{F(x) \\equiv f_1(x) + f_2(x)\\},\n",
    "\\end{equation}\n",
    "where $f_1$ is closed proper and convex, and $f_2$ is $\\mu$-strongly convex and $L$-smooth. We assume access to the proximal operator of both $f_1$ and $f_2$."
   ]
  },
  {
   "cell_type": "markdown",
   "metadata": {},
   "source": [
    "The package PEPit allows to compute a worst-case guarantee for **accelerated Douglas-Rachford**. That is, it computes the smallest possible $\\tau(n, L, \\mu, \\alpha)$ such that the following guarantee holds (for all initilization of the algorithm, and all functions satisfying the assumptions):\n",
    "\\begin{equation}\n",
    "F(y_n) - F(x_\\star) \\leqslant \\tau(n, L, \\mu, \\alpha) \\| w_0 - w_\\star \\|^2,\n",
    "\\end{equation}\n",
    "where $\\alpha$ is a parameter of the method, and where $y_n$ is the output of the accelerated Douglas-Rachford method, where $x_\\star$ is a minimizer of $F$, and $w_\\star$ defined such that\n",
    "\\begin{equation}\n",
    "x_\\star = \\text{prox}_{\\alpha f_2}(w_\\star)\n",
    "\\end{equation}\n",
    "is an optimal point."
   ]
  },
  {
   "cell_type": "markdown",
   "metadata": {},
   "source": [
    "#### Algorithm"
   ]
  },
  {
   "cell_type": "markdown",
   "metadata": {},
   "source": [
    "The accelerated Douglas Rachford method under consideration is be described as follows, for $t \\in \\{0,1, \\ldots, n-1\\}$\n",
    "\\begin{equation}\n",
    "    \\begin{aligned}\n",
    "        x_t     &= \\mathrm{prox}_{\\alpha f_2}(u_t), \\\\\n",
    "        y_t     &= \\mathrm{prox}_{\\alpha f_1}(2x_t - u_t), \\\\\n",
    "        w_{t+1} &= u_t +\\theta (y_t - x_t), \\\\\n",
    "        u_{t+1} &= \\left\\{\\begin{array}{ll} w_{t+1}+\\frac{t-1}{t+2}(w_{t+1}-w_t)\\, & \\mbox{if } t \\geqslant 1,\\\\\n",
    "                w_{t+1} & \\mbox{otherwise,} \\end{array} \\right.\n",
    "    \\end{aligned}\n",
    "\\end{equation}"
   ]
  },
  {
   "cell_type": "markdown",
   "metadata": {},
   "source": [
    "#### Theoretical guarantee"
   ]
  },
  {
   "cell_type": "markdown",
   "metadata": {},
   "source": [
    "There is no known worst-case guarantee for this method beyond quadratic minimization. When the objective function is a quadratic, a worst-case **upper** bound is provided by\n",
    "\\begin{equation}\n",
    "    F(y_n) - F_\\star \\leqslant  \\frac{2\\|w_0 - w_\\star\\|^2_2}{\\alpha \\theta(n+3)^2},\n",
    "\\end{equation}\n",
    "when $\\theta = \\frac{1 - \\alpha L}{1 + \\alpha L}$ and $\\alpha < \\frac{1}{L}$."
   ]
  },
  {
   "cell_type": "markdown",
   "metadata": {},
   "source": [
    "#### Plot worst-case guarantees as functions of the iteration count"
   ]
  },
  {
   "cell_type": "code",
   "execution_count": 17,
   "metadata": {
    "collapsed": true
   },
   "outputs": [],
   "source": [
    "# Set the parameters\n",
    "L = 1          # smoothness parameter\n",
    "mu = 0.1       # strong-convexity parameter\n",
    "gamma = 1 / L  # step size\n",
    "alpha = 0.9\n",
    "\n",
    "# Set a list of iteration counter to test\n",
    "n_list = np.array([1, 2, 4, 6, 8, 10, 15])\n",
    "\n",
    "\n",
    "# Compute numerical and theoretical (analytical) worst-case guarantees for each iteration count\n",
    "pepit_taus = list()\n",
    "theoretical_taus = list()\n",
    "for n in n_list:\n",
    "    pepit_tau, theoretical_tau = wc_accelerated_douglas_rachford_splitting(mu=mu,\n",
    "                                                                           L=L,\n",
    "                                                                           alpha=alpha,\n",
    "                                                                           n=n,\n",
    "                                                                           verbose=verbose,\n",
    "                                                                          )\n",
    "    pepit_taus.append(pepit_tau)\n",
    "    theoretical_taus.append(theoretical_tau)"
   ]
  },
  {
   "cell_type": "code",
   "execution_count": 18,
   "metadata": {},
   "outputs": [
    {
     "data": {
      "image/png": "[encoded data removed]",
      "text/plain": [
       "<Figure size 432x288 with 1 Axes>"
      ]
     },
     "metadata": {
      "needs_background": "light"
     },
     "output_type": "display_data"
    }
   ],
   "source": [
    "# Plot theoretical and PEPit (numerical) worst-case performance bounds as functions of the iteration count\n",
    "\n",
    "plt.plot(n_list, theoretical_taus, label='Theoretical upper bound for quadratics', marker='x')\n",
    "plt.plot(n_list, pepit_taus, label='PEPit worst case', marker='x')\n",
    "\n",
    "plt.semilogy()\n",
    "plt.semilogx()\n",
    "plt.legend()\n",
    "plt.xlabel('Interation count n (log scale)')\n",
    "plt.ylabel('Worst case guarantee')\n",
    "\n",
    "plt.show()"
   ]
  },
  {
   "cell_type": "markdown",
   "metadata": {},
   "source": [
    "### Example 4 : point-SAGA<a class=\"anchor\" id=\"example4\"></a>"
   ]
  },
  {
   "cell_type": "markdown",
   "metadata": {},
   "source": [
    "We consider the following finite sum minimization problem\n",
    "\\begin{equation}\n",
    "F_\\star \\triangleq \\min_x \\left\\{F(x) \\equiv \\frac{1}{n} \\sum_{i=1}^{n} f_i(x)\\right\\},\n",
    "\\end{equation}\n",
    "where $f_1, \\ldots, f_n$ are $L$-smooth and $\\mu$-strongly convex functions with proximal operators readily available."
   ]
  },
  {
   "cell_type": "markdown",
   "metadata": {},
   "source": [
    "The package PEPit allows to compute a tight (one-step) worst-case guarantee using a Lyapunov function for **point-SAGA**. The Lyapunov (or energy) function at a point $x$ is given by:\n",
    "\\begin{equation}\n",
    "V(x) = \\frac{1}{L \\mu}\\frac{1}{n} \\sum_{i \\leqslant n} \\|\\nabla f_i(x) - \\nabla f_i(x_\\star)\\|^2_2 + \\|x - x_\\star\\|^2_2,\n",
    "\\end{equation}\n",
    "where $x_\\star$ denotes the minimizer of $F$. The code computes the smallest possible $\\tau(n, L, \\mu)$ such that the guarantee\n",
    "\\begin{equation}\n",
    "\\mathbb{E}_{j_t}\\Big[V\\big(x^{(t+1)}_{j_t}\\big)\\Big] \\leqslant \\tau(n, L, \\mu) V\\left(x^{(t)}\\right),\n",
    "\\end{equation}\n",
    "is valid (for all initialization and all functions satisfying the assumptions)."
   ]
  },
  {
   "cell_type": "markdown",
   "metadata": {},
   "source": [
    "#### Algorithm"
   ]
  },
  {
   "cell_type": "markdown",
   "metadata": {},
   "source": [
    "At each iteration $t$, point-SAGA picks $j_t \\in \\{1, \\ldots, n\\}$ uniformly at random and performs the following updates\n",
    "\\begin{equation*}\n",
    "    \\begin{aligned}\n",
    "    z_{j_t}^{(t)} &= x^{(t)} + \\gamma \\left(g_{j_t}^{(t)} - \\frac{1}{n} \\sum_i g_i^{(t)}\\right),\\\\\n",
    "    x^{(t+1)}_{j_t} &= \\mathrm{prox}_{\\gamma f_{j_t}} \\left(z_{j_t}^{(t)}\\right),\\\\\n",
    "    g_{j_t}^{(t+1)} &= \\frac{1}{\\gamma}\\left(z_{j_t}^{(t)} - x^{(t+1)}_{j_t}\\right),\n",
    "    \\end{aligned}\n",
    "\\end{equation*}\n",
    "where $\\gamma=\\frac{\\sqrt{(n - 1)^2 + 4n\\frac{L}{\\mu}}}{2Ln} - \\frac{\\left(1 - \\frac{1}{n}\\right)}{2L}$ is the step size."
   ]
  },
  {
   "cell_type": "markdown",
   "metadata": {},
   "source": [
    "#### Thoeretical guarantee"
   ]
  },
  {
   "cell_type": "markdown",
   "metadata": {},
   "source": [
    "A worst-case **upper** bound is provided by\n",
    "\\begin{equation}\n",
    "\\mathbb{E}_{j_t}\\left[V\\left(x^{(t+1)}_{j_t}\\right)\\right] \\leqslant \\frac{1}{1 + \\mu\\gamma} V\\left(x^{(t)}\\right).\n",
    "\\end{equation}"
   ]
  },
  {
   "cell_type": "markdown",
   "metadata": {},
   "source": [
    "#### Plot worst-case guarantees as functions of the condition number"
   ]
  },
  {
   "cell_type": "markdown",
   "metadata": {},
   "source": [
    "We have seen that the proof is based on a Lyapunov function. We plot the convergence rate for this Lyapunov function as a function of the condition number $\\kappa = \\frac{L}{\\mu}$."
   ]
  },
  {
   "cell_type": "code",
   "execution_count": 12,
   "metadata": {
    "collapsed": true
   },
   "outputs": [],
   "source": [
    "# Set the parameters\n",
    "L = 1         # smoothness parameter\n",
    "n = 5         # the number of functions\n",
    "\n",
    "# Set a list of strong convexity parameter to test, given that the condition number kappa = L / mu\n",
    "mus = np.array([0.1, 0.05, 0.02, 0.01, 0.005, 0.002, 0.001, 0.0005, 0.0002, 0.0001, 0.00005, 0.00002, 0.00001])\n",
    "    \n",
    "\n",
    "# Compute numerical and theoretical (analytical) worst-case guarantees for each iteration count\n",
    "pepit_taus = list()\n",
    "theoretical_taus = list()\n",
    "for mu in mus:\n",
    "    pepit_tau, theoretical_tau = wc_point_saga(L=L,\n",
    "                                               mu=mu,\n",
    "                                               n=n,\n",
    "                                               verbose=verbose,\n",
    "                                              )\n",
    "    pepit_taus.append(pepit_tau)\n",
    "    theoretical_taus.append(theoretical_tau)"
   ]
  },
  {
   "cell_type": "code",
   "execution_count": 13,
   "metadata": {},
   "outputs": [
    {
     "data": {
      "image/png": "[encoded data removed]",
      "text/plain": [
       "<Figure size 432x288 with 1 Axes>"
      ]
     },
     "metadata": {
      "needs_background": "light"
     },
     "output_type": "display_data"
    }
   ],
   "source": [
    "# Plot theoretical and PEPit (numerical) worst-case performance bounds as functions of the iteration count\n",
    "\n",
    "plt.plot(L/mus, theoretical_taus, label='Theoretical upper bound')\n",
    "plt.plot(L/mus, pepit_taus, label='PEPit worst case')\n",
    "\n",
    "plt.semilogx()\n",
    "plt.legend()\n",
    "plt.xlabel('Condition number')\n",
    "plt.ylabel('Worst case guarantee')\n",
    "\n",
    "plt.show()"
   ]
  },
  {
   "cell_type": "code",
   "execution_count": null,
   "metadata": {
    "collapsed": true
   },
   "outputs": [],
   "source": []
  }
 ],
 "metadata": {
  "kernelspec": {
   "display_name": "Python 3",
   "language": "python",
   "name": "python3"
  },
  "language_info": {
   "codemirror_mode": {
    "name": "ipython",
    "version": 3
   },
   "file_extension": ".py",
   "mimetype": "text/x-python",
   "name": "python",
   "nbconvert_exporter": "python",
   "pygments_lexer": "ipython3",
   "version": "3.6.8"
  },
  "toc": {
   "base_numbering": 1,
   "nav_menu": {},
   "number_sections": true,
   "sideBar": true,
   "skip_h1_title": true,
   "title_cell": "Table of Contents",
   "title_sidebar": "Contents",
   "toc_cell": true,
   "toc_position": {
    "height": "916px",
    "left": "35px",
    "top": "162.896px",
    "width": "448px"
   },
   "toc_section_display": true,
   "toc_window_display": true
  }
 },
 "nbformat": 4,
 "nbformat_minor": 5
}
